{
 "cells": [
  {
   "cell_type": "markdown",
   "id": "0df4f2b7",
   "metadata": {},
   "source": [
    "### Basic Idea\n",
    "1. Load the URLs and file paths as strings.  \n",
    "2. Parse URLs and make them into URLRecords.  \n",
    "3. Parse file paths and make them into FileRecords.  \n",
    "4. Make URLRecords a list of unique elements.  \n",
    "5. Make FileRecords a list of unique elements.  \n",
    "\n",
    "At this point the URLRecords and FileRecords;\n",
    "1. are sets\n",
    "2. each each have an \"artist\" and \"song\" field.\n",
    "\n",
    "Check each URLRecord to see if it exists in the FileRecords.\n",
    "If there is an exact match, combine the URLRecord and FileRecord data into a single Record then pickle it.\n"
   ]
  },
  {
   "cell_type": "code",
   "execution_count": 1,
   "id": "8c01f825",
   "metadata": {},
   "outputs": [],
   "source": [
    "import parse_urls\n",
    "import parse_files\n",
    "from collections import namedtuple"
   ]
  },
  {
   "cell_type": "code",
   "execution_count": 8,
   "id": "fdd75262",
   "metadata": {},
   "outputs": [
    {
     "ename": "AttributeError",
     "evalue": "'list' object has no attribute 'rstrip'",
     "output_type": "error",
     "traceback": [
      "\u001b[0;31m---------------------------------------------------------------------------\u001b[0m",
      "\u001b[0;31mAttributeError\u001b[0m                            Traceback (most recent call last)",
      "\u001b[0;32m/var/folders/wf/xcs2gzgn4kzdpq_8md4br4zh0000gn/T/ipykernel_31671/1936829439.py\u001b[0m in \u001b[0;36m<module>\u001b[0;34m\u001b[0m\n\u001b[1;32m      1\u001b[0m \u001b[0;31m# URLRecords\u001b[0m\u001b[0;34m\u001b[0m\u001b[0;34m\u001b[0m\u001b[0;34m\u001b[0m\u001b[0m\n\u001b[1;32m      2\u001b[0m \u001b[0murls\u001b[0m \u001b[0;34m=\u001b[0m \u001b[0mparse_urls\u001b[0m\u001b[0;34m.\u001b[0m\u001b[0mload_urls\u001b[0m\u001b[0;34m(\u001b[0m\u001b[0;34m)\u001b[0m\u001b[0;34m\u001b[0m\u001b[0;34m\u001b[0m\u001b[0m\n\u001b[0;32m----> 3\u001b[0;31m \u001b[0murl_records\u001b[0m \u001b[0;34m=\u001b[0m \u001b[0mparse_urls\u001b[0m\u001b[0;34m.\u001b[0m\u001b[0martist_song_from_url\u001b[0m\u001b[0;34m(\u001b[0m\u001b[0murls\u001b[0m\u001b[0;34m)\u001b[0m\u001b[0;34m\u001b[0m\u001b[0;34m\u001b[0m\u001b[0m\n\u001b[0m\u001b[1;32m      4\u001b[0m \u001b[0mprint\u001b[0m\u001b[0;34m(\u001b[0m\u001b[0;34m\"URLRecords:\"\u001b[0m\u001b[0;34m,\u001b[0m \u001b[0mlen\u001b[0m\u001b[0;34m(\u001b[0m\u001b[0murl_records\u001b[0m\u001b[0;34m)\u001b[0m\u001b[0;34m)\u001b[0m\u001b[0;34m\u001b[0m\u001b[0;34m\u001b[0m\u001b[0m\n",
      "\u001b[0;32m~/Documents/lyrics/parse_urls.py\u001b[0m in \u001b[0;36martist_song_from_url\u001b[0;34m(url)\u001b[0m\n\u001b[1;32m     33\u001b[0m \u001b[0;32mdef\u001b[0m \u001b[0martist_song_from_url\u001b[0m\u001b[0;34m(\u001b[0m\u001b[0murl\u001b[0m\u001b[0;34m:\u001b[0m \u001b[0mstr\u001b[0m\u001b[0;34m)\u001b[0m \u001b[0;34m->\u001b[0m \u001b[0mRecord\u001b[0m\u001b[0;34m:\u001b[0m\u001b[0;34m\u001b[0m\u001b[0;34m\u001b[0m\u001b[0m\n\u001b[1;32m     34\u001b[0m     \u001b[0;34m\"\"\"Create a Record from the 'url'.\"\"\"\u001b[0m\u001b[0;34m\u001b[0m\u001b[0;34m\u001b[0m\u001b[0m\n\u001b[0;32m---> 35\u001b[0;31m     \u001b[0murl\u001b[0m \u001b[0;34m=\u001b[0m \u001b[0murl\u001b[0m\u001b[0;34m.\u001b[0m\u001b[0mrstrip\u001b[0m\u001b[0;34m(\u001b[0m\u001b[0;34m)\u001b[0m\u001b[0;34m\u001b[0m\u001b[0;34m\u001b[0m\u001b[0m\n\u001b[0m\u001b[1;32m     36\u001b[0m     \u001b[0mnormalized\u001b[0m \u001b[0;34m=\u001b[0m \u001b[0mparser\u001b[0m\u001b[0;34m.\u001b[0m\u001b[0munquote_plus\u001b[0m\u001b[0;34m(\u001b[0m\u001b[0murl\u001b[0m\u001b[0;34m)\u001b[0m  \u001b[0;31m# convert from % to characters)\u001b[0m\u001b[0;34m\u001b[0m\u001b[0;34m\u001b[0m\u001b[0m\n\u001b[1;32m     37\u001b[0m     \u001b[0mregex\u001b[0m \u001b[0;34m=\u001b[0m \u001b[0mre\u001b[0m\u001b[0;34m.\u001b[0m\u001b[0mcompile\u001b[0m\u001b[0;34m(\u001b[0m\u001b[0;34m\"[\\d]+/\"\u001b[0m\u001b[0;34m)\u001b[0m  \u001b[0;31m# get index of last number place and slash\u001b[0m\u001b[0;34m\u001b[0m\u001b[0;34m\u001b[0m\u001b[0m\n",
      "\u001b[0;31mAttributeError\u001b[0m: 'list' object has no attribute 'rstrip'"
     ]
    }
   ],
   "source": [
    "# URLRecords\n",
    "urls = parse_urls.load_urls()\n",
    "url_records = parse_urls.artist_song_from_url(urls)\n",
    "print(\"URLRecords:\", len(url_records))\n"
   ]
  },
  {
   "cell_type": "code",
   "execution_count": 5,
   "id": "102f7ec7",
   "metadata": {},
   "outputs": [
    {
     "name": "stdout",
     "output_type": "stream",
     "text": [
      "Errors: 1\n"
     ]
    },
    {
     "data": {
      "text/plain": [
       "FileRecord(artist='Karmin', song='Firework', path='Databases/data9/Karmin_Firework.txt')"
      ]
     },
     "execution_count": 5,
     "metadata": {},
     "output_type": "execute_result"
    }
   ],
   "source": [
    "# FileRecords\n",
    "FileRecord = namedtuple(\"FileRecord\", [\"artist\", \"song\", \"path\"])\n",
    "file_block = \"Databases/data9\"\n",
    "artist_song_paths = \"MetricsAndData/artist_song_paths.pickle\"\n",
    "records = parse_files.load_file_records(artist_song_paths)\n",
    "records = parse_files.create_file_records_from_dir(file_block, records)\n",
    "file_record = list(records)[0]\n",
    "file_record"
   ]
  },
  {
   "cell_type": "code",
   "execution_count": null,
   "id": "e5ab33fb",
   "metadata": {},
   "outputs": [],
   "source": []
  }
 ],
 "metadata": {
  "kernelspec": {
   "display_name": "Python 3 (ipykernel)",
   "language": "python",
   "name": "python3"
  },
  "language_info": {
   "codemirror_mode": {
    "name": "ipython",
    "version": 3
   },
   "file_extension": ".py",
   "mimetype": "text/x-python",
   "name": "python",
   "nbconvert_exporter": "python",
   "pygments_lexer": "ipython3",
   "version": "3.9.0"
  }
 },
 "nbformat": 4,
 "nbformat_minor": 5
}
