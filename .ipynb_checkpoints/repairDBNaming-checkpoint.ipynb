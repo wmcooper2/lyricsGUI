{
 "cells": [
  {
   "cell_type": "code",
   "execution_count": 1,
   "id": "8c01f825",
   "metadata": {},
   "outputs": [],
   "source": [
    "import parse_urls\n",
    "import parse_files\n",
    "from collections import namedtuple"
   ]
  },
  {
   "cell_type": "code",
   "execution_count": 3,
   "id": "8ddca197",
   "metadata": {},
   "outputs": [
    {
     "data": {
      "text/plain": [
       "Record(artist='The Rockers', song='Runaway', url='https://www.lyrics.com/lyric/2675799/The+Rockers/Runaway')"
      ]
     },
     "execution_count": 3,
     "metadata": {},
     "output_type": "execute_result"
    }
   ],
   "source": [
    "# URLRecords\n",
    "urls = parse_urls.load_urls()\n",
    "url_record = parse_urls.artist_song_from_url(urls[0])\n",
    "url_record"
   ]
  },
  {
   "cell_type": "code",
   "execution_count": 5,
   "id": "102f7ec7",
   "metadata": {},
   "outputs": [
    {
     "name": "stdout",
     "output_type": "stream",
     "text": [
      "Errors: 1\n"
     ]
    },
    {
     "data": {
      "text/plain": [
       "FileRecord(artist='Karmin', song='Firework', path='Databases/data9/Karmin_Firework.txt')"
      ]
     },
     "execution_count": 5,
     "metadata": {},
     "output_type": "execute_result"
    }
   ],
   "source": [
    "# FileRecords\n",
    "FileRecord = namedtuple(\"FileRecord\", [\"artist\", \"song\", \"path\"])\n",
    "file_block = \"Databases/data9\"\n",
    "artist_song_paths = \"MetricsAndData/artist_song_paths.pickle\"\n",
    "records = parse_files.load_file_records(artist_song_paths)\n",
    "records = parse_files.create_file_records_from_dir(file_block, records)\n",
    "file_record = list(records)[0]\n",
    "file_record"
   ]
  },
  {
   "cell_type": "code",
   "execution_count": null,
   "id": "f26a03a9",
   "metadata": {},
   "outputs": [],
   "source": []
  }
 ],
 "metadata": {
  "kernelspec": {
   "display_name": "Python 3 (ipykernel)",
   "language": "python",
   "name": "python3"
  },
  "language_info": {
   "codemirror_mode": {
    "name": "ipython",
    "version": 3
   },
   "file_extension": ".py",
   "mimetype": "text/x-python",
   "name": "python",
   "nbconvert_exporter": "python",
   "pygments_lexer": "ipython3",
   "version": "3.9.0"
  }
 },
 "nbformat": 4,
 "nbformat_minor": 5
}
